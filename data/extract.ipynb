{
 "cells": [
  {
   "cell_type": "code",
   "execution_count": 67,
   "id": "4b82d0e9",
   "metadata": {},
   "outputs": [
    {
     "name": "stdout",
     "output_type": "stream",
     "text": [
      "COD\n",
      "228\n",
      "DO\n",
      "220\n",
      "EC\n",
      "228\n",
      "NO3\n",
      "228\n",
      "N2\n",
      "228\n",
      "TSS\n",
      "222\n",
      "TEMP\n",
      "226\n",
      "PH\n",
      "228\n"
     ]
    }
   ],
   "source": [
    "#This IPYNB notebook processes data scraped the Mekong River Commission Website at https://portal.mrcmekong.org/time-series/ph\n",
    "#We take the SVG Paths and find manually the coefficients used to draw the SVG, deriving the original value\n",
    "#The formula is value= slope_coeff(max_height-point_height) since the y-axis goes from top_to_bottom\n",
    "ls=['COD','DO','EC','NO3','N2','TSS','TEMP','PH']\n",
    "lsraw={};\n",
    "for i in ls:\n",
    "    with open(i+'.txt','r') as f:\n",
    "        s= f.read()\n",
    "        print(i)\n",
    "        lsraw[i]=[x.split() for x in s.split('L')]\n",
    "        print(len(lsraw[i]))\n",
    "        "
   ]
  },
  {
   "cell_type": "code",
   "execution_count": 68,
   "id": "669b19f2",
   "metadata": {},
   "outputs": [
    {
     "name": "stdout",
     "output_type": "stream",
     "text": [
      "17 101.61904761905\n",
      "18 143.68186423506\n",
      "33 233.11448834853\n",
      "34 245.10435663627\n",
      "35 251.00101317123\n",
      "36 263.1874366768\n"
     ]
    }
   ],
   "source": [
    "#Diagnostic Script, checks when the x values are too far apart for a larger than 1 month gap\n",
    "v='DO'\n",
    "for i in range(1,len(lsraw[v])-1):\n",
    "    xn,yn=lsraw[v][i+1]\n",
    "    x,y= lsraw[v][i]\n",
    "    xp,yp= lsraw[v][i-1]\n",
    "    if abs((float(xn)-float(x))-(float(x)-float(xp))) >5:\n",
    "        print(i, x)\n"
   ]
  },
  {
   "cell_type": "code",
   "execution_count": 69,
   "id": "0559584b",
   "metadata": {},
   "outputs": [],
   "source": [
    "#Populate Missing Data Temp\n",
    "lsraw['TEMP'].insert(42,['Inserted', float(lsraw['TEMP'][41][1])/2+float(lsraw['TEMP'][42][1])/2])\n",
    "lsraw['TEMP'].insert(40,['Inserted', float(lsraw['TEMP'][39][1])/2+float(lsraw['TEMP'][40][1])/2])"
   ]
  },
  {
   "cell_type": "code",
   "execution_count": 70,
   "id": "45e86299",
   "metadata": {},
   "outputs": [],
   "source": [
    "#Populate Missing Data TSS\n",
    "v='TSS'\n",
    "for k in range(6):\n",
    "    lsraw[v].insert(i:=78,['Inserted', float(lsraw[v][i-1][1])/2+float(lsraw[v][i][1])/2])\n"
   ]
  },
  {
   "cell_type": "code",
   "execution_count": 71,
   "id": "bbbb9df4",
   "metadata": {},
   "outputs": [],
   "source": [
    "#Populate Missing Data DO\n",
    "v='DO'\n",
    "lsraw[v].insert(i:=34,['Inserted', float(lsraw[v][i-1][1])/2+float(lsraw[v][i][1])/2])\n",
    "lsraw[v].insert(i:=36,['Inserted', float(lsraw[v][i-1][1])/2+float(lsraw[v][i][1])/2])\n",
    "for k in range(6):\n",
    "    lsraw[v].insert(i:=18,['Inserted', float(lsraw[v][i-1][1])/2+float(lsraw[v][i][1])/2])\n",
    "\n"
   ]
  },
  {
   "cell_type": "code",
   "execution_count": 72,
   "id": "5394da7a",
   "metadata": {},
   "outputs": [
    {
     "name": "stdout",
     "output_type": "stream",
     "text": [
      "COD 228\n",
      "DO 228\n",
      "EC 228\n",
      "NO3 228\n",
      "N2 228\n",
      "TSS 228\n",
      "TEMP 228\n",
      "PH 228\n"
     ]
    }
   ],
   "source": [
    "for k in lsraw.keys():\n",
    "    print(k, len(lsraw[k]))"
   ]
  },
  {
   "cell_type": "code",
   "execution_count": 45,
   "id": "d7da7ed0",
   "metadata": {},
   "outputs": [],
   "source": [
    "import pandas as pd"
   ]
  },
  {
   "cell_type": "code",
   "execution_count": 73,
   "id": "b5db1f7a",
   "metadata": {},
   "outputs": [],
   "source": [
    "df= pd.DataFrame({k: \n",
    "             map(lambda vli: float(vli[1]),\n",
    "                vl)\n",
    "             for k, vl in lsraw.items()})"
   ]
  },
  {
   "cell_type": "code",
   "execution_count": 74,
   "id": "e2b37d50",
   "metadata": {},
   "outputs": [],
   "source": [
    "pd.date_range('2003-01-15', periods=228, freq='M')\n",
    "df.insert(0, 'Date', pd.date_range('2003-01-15', periods=228, freq='M'))"
   ]
  },
  {
   "cell_type": "code",
   "execution_count": 76,
   "id": "b1b8ee97",
   "metadata": {},
   "outputs": [],
   "source": [
    "lsval={'COD':14,'NO3':1.4,'N2':4,'TSS':350}\n",
    "for i, v in lsval.items():\n",
    "    df[i]=df[i].apply(lambda x: v/445 * (445-x))"
   ]
  },
  {
   "cell_type": "code",
   "execution_count": 78,
   "id": "a5c8cb5e",
   "metadata": {},
   "outputs": [],
   "source": [
    "df['EC']=df['EC'].apply(lambda x:0.0674157*(519.16-x))"
   ]
  },
  {
   "cell_type": "code",
   "execution_count": 80,
   "id": "f74d2434",
   "metadata": {},
   "outputs": [],
   "source": [
    "df['DO']=df['DO'].apply(lambda x:8/445*(500.625-x))"
   ]
  },
  {
   "cell_type": "code",
   "execution_count": 82,
   "id": "859b0f1f",
   "metadata": {},
   "outputs": [],
   "source": [
    "df['PH']=df['PH'].apply(lambda x:32/6329*(1631.9-x))"
   ]
  },
  {
   "cell_type": "code",
   "execution_count": 84,
   "id": "bdd7baf5",
   "metadata": {},
   "outputs": [],
   "source": [
    "df['TEMP']=df['TEMP'].apply(lambda x: 14/519 *(1260.478-x))"
   ]
  },
  {
   "cell_type": "code",
   "execution_count": 89,
   "id": "4d3bc267",
   "metadata": {},
   "outputs": [
    {
     "data": {
      "text/html": [
       "<div>\n",
       "<style scoped>\n",
       "    .dataframe tbody tr th:only-of-type {\n",
       "        vertical-align: middle;\n",
       "    }\n",
       "\n",
       "    .dataframe tbody tr th {\n",
       "        vertical-align: top;\n",
       "    }\n",
       "\n",
       "    .dataframe thead th {\n",
       "        text-align: right;\n",
       "    }\n",
       "</style>\n",
       "<table border=\"1\" class=\"dataframe\">\n",
       "  <thead>\n",
       "    <tr style=\"text-align: right;\">\n",
       "      <th></th>\n",
       "      <th>Date</th>\n",
       "      <th>COD</th>\n",
       "      <th>DO</th>\n",
       "      <th>EC</th>\n",
       "      <th>NO3</th>\n",
       "      <th>N2</th>\n",
       "      <th>TSS</th>\n",
       "      <th>TEMP</th>\n",
       "      <th>PH</th>\n",
       "    </tr>\n",
       "  </thead>\n",
       "  <tbody>\n",
       "    <tr>\n",
       "      <th>0</th>\n",
       "      <td>2003-01-31</td>\n",
       "      <td>2.94</td>\n",
       "      <td>5.78</td>\n",
       "      <td>13.119545</td>\n",
       "      <td>0.141</td>\n",
       "      <td>0.456</td>\n",
       "      <td>43.0</td>\n",
       "      <td>30.000049</td>\n",
       "      <td>7.241053</td>\n",
       "    </tr>\n",
       "    <tr>\n",
       "      <th>1</th>\n",
       "      <td>2003-02-28</td>\n",
       "      <td>1.82</td>\n",
       "      <td>6.61</td>\n",
       "      <td>14.929544</td>\n",
       "      <td>0.092</td>\n",
       "      <td>0.780</td>\n",
       "      <td>38.0</td>\n",
       "      <td>28.999728</td>\n",
       "      <td>7.081055</td>\n",
       "    </tr>\n",
       "    <tr>\n",
       "      <th>2</th>\n",
       "      <td>2003-03-31</td>\n",
       "      <td>1.68</td>\n",
       "      <td>7.19</td>\n",
       "      <td>17.459543</td>\n",
       "      <td>0.072</td>\n",
       "      <td>0.289</td>\n",
       "      <td>34.0</td>\n",
       "      <td>28.999728</td>\n",
       "      <td>7.191054</td>\n",
       "    </tr>\n",
       "    <tr>\n",
       "      <th>3</th>\n",
       "      <td>2003-04-30</td>\n",
       "      <td>1.71</td>\n",
       "      <td>6.98</td>\n",
       "      <td>17.299543</td>\n",
       "      <td>0.150</td>\n",
       "      <td>0.517</td>\n",
       "      <td>26.8</td>\n",
       "      <td>30.000049</td>\n",
       "      <td>7.551047</td>\n",
       "    </tr>\n",
       "    <tr>\n",
       "      <th>4</th>\n",
       "      <td>2003-05-31</td>\n",
       "      <td>2.30</td>\n",
       "      <td>7.02</td>\n",
       "      <td>24.199540</td>\n",
       "      <td>0.240</td>\n",
       "      <td>0.669</td>\n",
       "      <td>10.4</td>\n",
       "      <td>29.699952</td>\n",
       "      <td>6.701062</td>\n",
       "    </tr>\n",
       "    <tr>\n",
       "      <th>...</th>\n",
       "      <td>...</td>\n",
       "      <td>...</td>\n",
       "      <td>...</td>\n",
       "      <td>...</td>\n",
       "      <td>...</td>\n",
       "      <td>...</td>\n",
       "      <td>...</td>\n",
       "      <td>...</td>\n",
       "      <td>...</td>\n",
       "    </tr>\n",
       "    <tr>\n",
       "      <th>223</th>\n",
       "      <td>2021-08-31</td>\n",
       "      <td>3.81</td>\n",
       "      <td>5.24</td>\n",
       "      <td>14.579544</td>\n",
       "      <td>0.648</td>\n",
       "      <td>1.160</td>\n",
       "      <td>15.0</td>\n",
       "      <td>29.199792</td>\n",
       "      <td>7.201053</td>\n",
       "    </tr>\n",
       "    <tr>\n",
       "      <th>224</th>\n",
       "      <td>2021-09-30</td>\n",
       "      <td>4.09</td>\n",
       "      <td>4.47</td>\n",
       "      <td>28.199538</td>\n",
       "      <td>0.757</td>\n",
       "      <td>3.110</td>\n",
       "      <td>42.0</td>\n",
       "      <td>28.799663</td>\n",
       "      <td>6.961058</td>\n",
       "    </tr>\n",
       "    <tr>\n",
       "      <th>225</th>\n",
       "      <td>2021-10-31</td>\n",
       "      <td>3.50</td>\n",
       "      <td>5.50</td>\n",
       "      <td>10.089546</td>\n",
       "      <td>0.043</td>\n",
       "      <td>0.605</td>\n",
       "      <td>76.0</td>\n",
       "      <td>28.199471</td>\n",
       "      <td>6.571064</td>\n",
       "    </tr>\n",
       "    <tr>\n",
       "      <th>226</th>\n",
       "      <td>2021-11-30</td>\n",
       "      <td>3.37</td>\n",
       "      <td>5.29</td>\n",
       "      <td>20.149541</td>\n",
       "      <td>0.232</td>\n",
       "      <td>0.713</td>\n",
       "      <td>56.0</td>\n",
       "      <td>29.799985</td>\n",
       "      <td>6.471066</td>\n",
       "    </tr>\n",
       "    <tr>\n",
       "      <th>227</th>\n",
       "      <td>2021-12-31</td>\n",
       "      <td>4.10</td>\n",
       "      <td>5.08</td>\n",
       "      <td>16.049543</td>\n",
       "      <td>0.523</td>\n",
       "      <td>0.706</td>\n",
       "      <td>38.0</td>\n",
       "      <td>29.099760</td>\n",
       "      <td>7.031056</td>\n",
       "    </tr>\n",
       "  </tbody>\n",
       "</table>\n",
       "<p>228 rows × 9 columns</p>\n",
       "</div>"
      ],
      "text/plain": [
       "          Date   COD    DO         EC    NO3     N2   TSS       TEMP        PH\n",
       "0   2003-01-31  2.94  5.78  13.119545  0.141  0.456  43.0  30.000049  7.241053\n",
       "1   2003-02-28  1.82  6.61  14.929544  0.092  0.780  38.0  28.999728  7.081055\n",
       "2   2003-03-31  1.68  7.19  17.459543  0.072  0.289  34.0  28.999728  7.191054\n",
       "3   2003-04-30  1.71  6.98  17.299543  0.150  0.517  26.8  30.000049  7.551047\n",
       "4   2003-05-31  2.30  7.02  24.199540  0.240  0.669  10.4  29.699952  6.701062\n",
       "..         ...   ...   ...        ...    ...    ...   ...        ...       ...\n",
       "223 2021-08-31  3.81  5.24  14.579544  0.648  1.160  15.0  29.199792  7.201053\n",
       "224 2021-09-30  4.09  4.47  28.199538  0.757  3.110  42.0  28.799663  6.961058\n",
       "225 2021-10-31  3.50  5.50  10.089546  0.043  0.605  76.0  28.199471  6.571064\n",
       "226 2021-11-30  3.37  5.29  20.149541  0.232  0.713  56.0  29.799985  6.471066\n",
       "227 2021-12-31  4.10  5.08  16.049543  0.523  0.706  38.0  29.099760  7.031056\n",
       "\n",
       "[228 rows x 9 columns]"
      ]
     },
     "execution_count": 89,
     "metadata": {},
     "output_type": "execute_result"
    }
   ],
   "source": [
    "df"
   ]
  }
 ],
 "metadata": {
  "kernelspec": {
   "display_name": "Python 3 (ipykernel)",
   "language": "python",
   "name": "python3"
  },
  "language_info": {
   "codemirror_mode": {
    "name": "ipython",
    "version": 3
   },
   "file_extension": ".py",
   "mimetype": "text/x-python",
   "name": "python",
   "nbconvert_exporter": "python",
   "pygments_lexer": "ipython3",
   "version": "3.11.3"
  }
 },
 "nbformat": 4,
 "nbformat_minor": 5
}
